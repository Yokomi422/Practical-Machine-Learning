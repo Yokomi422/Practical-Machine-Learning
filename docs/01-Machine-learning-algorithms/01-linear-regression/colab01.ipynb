{
 "cells": [
  {
   "attachments": {},
   "cell_type": "markdown",
   "metadata": {},
   "source": [
    "# the California housing dataset"
   ]
  },
  {
   "attachments": {},
   "cell_type": "markdown",
   "metadata": {},
   "source": [
    "## Google Colabolaratoryの使い方\n",
    "\n",
    "- 上のメニューの「ランタイム」のの「すべてのセルを実行する」を押すと、以下のコードが実行されます。また、自分でコードを書いて実行することもできます。"
   ]
  },
  {
   "cell_type": "code",
   "execution_count": null,
   "metadata": {},
   "outputs": [],
   "source": [
    "from sklearn.datasets import fetch_california_housing\n",
    "california = fetch_california_housing(as_frame=True)\n",
    "frame = california.frame"
   ]
  },
  {
   "attachments": {},
   "cell_type": "markdown",
   "metadata": {},
   "source": [
    "- データを取得しています。\n",
    "\n",
    "- 詳しい説明は[公式ドキュメント](https://scikit-learn.org/stable/datasets/real_world.html#california-housing-dataset)に書いてあります。\n",
    "\n",
    "- as_frame=Trueにすると、DataFrame形式で読み込め、それがframeに代入されています。"
   ]
  },
  {
   "cell_type": "code",
   "execution_count": null,
   "metadata": {},
   "outputs": [],
   "source": [
    "frame.head()"
   ]
  },
  {
   "attachments": {},
   "cell_type": "markdown",
   "metadata": {},
   "source": [
    "- データをざっと見ています。"
   ]
  },
  {
   "cell_type": "code",
   "execution_count": null,
   "metadata": {},
   "outputs": [],
   "source": [
    "X = frame.drop('MedHouseVal', axis=1)\n",
    "y = frame['MedHouseVal']"
   ]
  },
  {
   "attachments": {},
   "cell_type": "markdown",
   "metadata": {},
   "source": [
    "- dropメソッドを使って、目的変数の'MedHouseVal'を取り出して、yに代入しています。"
   ]
  },
  {
   "cell_type": "code",
   "execution_count": null,
   "metadata": {},
   "outputs": [],
   "source": [
    "from sklearn.model_selection import train_test_split\n",
    "\n",
    "X_train, X_test, y_train, y_test = train_test_split(X, y, test_size=0.2, random_state=42)"
   ]
  },
  {
   "attachments": {},
   "cell_type": "markdown",
   "metadata": {},
   "source": [
    "- データを全て学習データにしてしまうと、モデルの評価ができないので、学習データとテストデータに分けています。\n",
    "\n",
    "- データを分けるには、train_test_split関数を使います。\n",
    "\n",
    "- test_size=0.2とすると、テストデータの割合が20%になります。\n",
    "\n",
    "- random_stateは、乱数のシードを指定しています。乱数を固定することで、モデルの再現性を担保しています。"
   ]
  },
  {
   "cell_type": "code",
   "execution_count": null,
   "metadata": {},
   "outputs": [],
   "source": [
    "from sklearn.linear_model import LinearRegression\n",
    "model = LinearRegression()\n",
    "model.fit(X_train, y_train)"
   ]
  },
  {
   "attachments": {},
   "cell_type": "markdown",
   "metadata": {},
   "source": [
    "- sklearnのLinearRegressionクラスを使って、モデルを作成しています。\n",
    "\n",
    "- model = LinearRegression()とすると、インスタンスが作成されます。\n",
    "\n",
    "- model.fit(X_train, y_train)とすると、学習が行われます。"
   ]
  },
  {
   "attachments": {},
   "cell_type": "markdown",
   "metadata": {},
   "source": [
    "実は、fitを呼び出すと、モデルのパラメータが決定されます。このパラメータは、model.coef_とmodel.intercept_で確認できます。\n",
    "coef_は、係数を表しています。intercept_は、切片を表しています。"
   ]
  },
  {
   "cell_type": "code",
   "execution_count": null,
   "metadata": {},
   "outputs": [],
   "source": [
    "print(f\"線形モデルの係数: {model.coef_}  \\n線形モデルの切片: {model.intercept_}\")"
   ]
  },
  {
   "cell_type": "code",
   "execution_count": null,
   "metadata": {},
   "outputs": [],
   "source": [
    "y_pred = model.predict(X_test)"
   ]
  },
  {
   "attachments": {},
   "cell_type": "markdown",
   "metadata": {},
   "source": [
    "- 学習したモデルを使って、予測を行います。\n",
    "\n",
    "- model.predict(X_test)とすると、予測値が返ってきます。"
   ]
  },
  {
   "cell_type": "code",
   "execution_count": null,
   "metadata": {},
   "outputs": [],
   "source": [
    "y_pred[:5]"
   ]
  },
  {
   "attachments": {},
   "cell_type": "markdown",
   "metadata": {},
   "source": [
    "次にモデルの評価をしてみましょう。"
   ]
  },
  {
   "cell_type": "code",
   "execution_count": null,
   "metadata": {},
   "outputs": [],
   "source": [
    "from sklearn.metrics import r2_score\n",
    "print(r2_score(y_test,y_pred))"
   ]
  },
  {
   "attachments": {},
   "cell_type": "markdown",
   "metadata": {},
   "source": [
    "- 決定係数という指標を使って、モデルの評価をしています。"
   ]
  },
  {
   "cell_type": "code",
   "execution_count": null,
   "metadata": {},
   "outputs": [],
   "source": [
    "print(model.score(X_test, y_test))"
   ]
  }
 ],
 "metadata": {
  "kernelspec": {
   "display_name": "Python 3",
   "language": "python",
   "name": "python3"
  },
  "language_info": {
   "name": "python",
   "version": "3.10.4"
  },
  "orig_nbformat": 4
 },
 "nbformat": 4,
 "nbformat_minor": 2
}
